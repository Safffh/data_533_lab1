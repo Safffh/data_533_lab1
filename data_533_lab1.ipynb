{
 "cells": [
  {
   "cell_type": "code",
   "execution_count": 10,
   "id": "be7e62ed",
   "metadata": {},
   "outputs": [
    {
     "name": "stdout",
     "output_type": "stream",
     "text": [
      "[30, 20, 10]\n",
      "[30, 20]\n",
      "[40, 30, 20]\n",
      "[40, 30]\n"
     ]
    }
   ],
   "source": [
    "class Queue:\n",
    "    def __init__(self):\n",
    "        self.items=[]\n",
    "    def is_empty(self):\n",
    "        return len(self.items) == 0\n",
    "    def enqueue(self,item):\n",
    "        self.items.append(item)\n",
    "    def dequeue(self):\n",
    "        if not self.is_empty():\n",
    "            return self.items.pop(0)\n",
    "        else:\n",
    "            raise IndexError(\"Queue is empty\")\n",
    "    def size(self):\n",
    "        return len(self.items)\n",
    "    def __str__(self):\n",
    "        return str(self.items[::-1])\n",
    "\n",
    "queue = Queue()\n",
    "queue.enqueue(10)\n",
    "queue.enqueue(20)\n",
    "queue.enqueue(30)\n",
    "print(queue)\n",
    "queue.dequeue()\n",
    "print(queue)\n",
    "queue.enqueue(40)\n",
    "print(queue)\n",
    "queue.dequeue()\n",
    "print(queue)\n",
    "        \n"
   ]
  },
  {
   "cell_type": "code",
   "execution_count": 20,
   "id": "c89f3edb",
   "metadata": {},
   "outputs": [
    {
     "name": "stdout",
     "output_type": "stream",
     "text": [
      "Alex\n",
      "Total contact:  1\n",
      "David\n",
      "Total contact:  2\n",
      "2\n"
     ]
    }
   ],
   "source": [
    "class Contact:\n",
    "    count=0\n",
    "    def __init__(self, name, phoneNo, email ):\n",
    "        self.__name=name\n",
    "        self.__phoneNo=phoneNo\n",
    "        self.__email=email\n",
    "        Contact.count = 1+self.count\n",
    "    @property\n",
    "    def name(self):\n",
    "        return self.__name\n",
    "    @name.setter\n",
    "    def name(self, new_name):\n",
    "        self.__name = new_name\n",
    "    @property\n",
    "    def phoneNo(self):\n",
    "        return self.__phoneNo\n",
    "    @property\n",
    "    def email(self):\n",
    "        return self.__email\n",
    "    def displayCount(self):\n",
    "        print(\"Total contact: \",self.count)\n",
    "\n",
    "c1 = Contact('Ale', '123-456-0123', 'alex@test.ca')\n",
    "c1.name = 'Alex'\n",
    "print(c1.name)\n",
    "c1.displayCount()\n",
    "c2 = Contact('David', '123-456-0124', 'dave@test.ca')\n",
    "print(c2.name)\n",
    "c2.displayCount()\n",
    "print(Contact.count)\n"
   ]
  },
  {
   "cell_type": "code",
   "execution_count": 24,
   "id": "10dc3706",
   "metadata": {},
   "outputs": [
    {
     "name": "stdout",
     "output_type": "stream",
     "text": [
      "Make: Ford Model: F150 Year: 2018\n",
      "Tonnage: 0.5\n",
      "Make: Tesla Model: Model S Year: 2008\n",
      "battery: 60 kWh\n"
     ]
    }
   ],
   "source": [
    "class Vehicle:\n",
    "    def __init__(self, make, model, year):\n",
    "        self.make=make\n",
    "        self.model=model\n",
    "        self.year=year\n",
    "    def display(self):\n",
    "        print(\"Make:\",self.make,\"Model:\",self.model,\"Year:\",self.year)\n",
    "class Truck(Vehicle):\n",
    "    def __init__(self,make,model,year,tonnage):\n",
    "        Vehicle.__init__(self,make,model,year)\n",
    "        self.tonnage=tonnage\n",
    "    def display(self):\n",
    "        Vehicle.display(self)\n",
    "        print(\"Tonnage:\",self.tonnage)\n",
    "        \n",
    "class ElectricCar(Vehicle):\n",
    "    def __init__(self,make,model,year,battery):\n",
    "        Vehicle.__init__(self,make,model,year)\n",
    "        self.battery=battery\n",
    "    def display(self):\n",
    "        Vehicle.display(self)\n",
    "        print(\"battery:\",self.battery)\n",
    "    \n",
    "v1 = Truck('Ford', 'F150', 2018, 0.5);\n",
    "v2 = ElectricCar('Tesla', 'Model S', 2008, '60 kWh');\n",
    "vehicles = [v1, v2]\n",
    "for vehicle in vehicles:\n",
    "    vehicle.display()\n",
    "        "
   ]
  },
  {
   "cell_type": "code",
   "execution_count": 36,
   "id": "44c9205e",
   "metadata": {},
   "outputs": [
    {
     "name": "stdout",
     "output_type": "stream",
     "text": [
      "Total converted distance is 3.31 km\n",
      "Total converted distance is 13.94 in\n",
      "Total converted distance is -0.61 km\n",
      "Total converted distance is -2.00 ft\n"
     ]
    }
   ],
   "source": [
    "class Conversion:\n",
    "    conversion_rates = {\n",
    "        'mm': 0.001,\n",
    "        'cm': 0.01,\n",
    "        'm': 1.0,\n",
    "        'km': 1000.0,\n",
    "        'in': 0.0254,\n",
    "        'ft': 0.3048,\n",
    "        'yd': 0.9144,\n",
    "        'mi': 1609.34\n",
    "    }\n",
    "    def __init__(self,  value,  unit='m'):\n",
    "        self.value=value\n",
    "        self.unit=unit.lower()\n",
    "        if self.unit not in self.conversion_rates:\n",
    "            raise ValueError(\"Invalid unit. Please choose from mm, cm, m, km, in, ft, yd, mi.\")\n",
    "    def __add__(self, other):\n",
    "        converted_value = self.value + other.value*(self.conversion_rates[other.unit]/self.conversion_rates[self.unit])\n",
    "        #print(self.unit)\n",
    "        return Conversion(converted_value,self.unit)\n",
    "\n",
    "    def __sub__(self, other):\n",
    "        converted_value = self.value - other.value*(self.conversion_rates[other.unit]/self.conversion_rates[self.unit])\n",
    "        return Conversion(converted_value,self.unit)\n",
    "    def __str__(self):\n",
    "        return f\"Total converted distance is {self.value:.2f} {self.unit}\"\n",
    "\n",
    "print(Conversion(3.3, \"km\") + Conversion(10))\n",
    "print(Conversion(10, \"in\") + Conversion(10, \"cm\"))\n",
    "print(Conversion(1, \"km\") - Conversion(1,\"mi\"))\n",
    "print(Conversion(1, \"ft\") - Conversion(1,\"yd\"))\n",
    "    "
   ]
  },
  {
   "cell_type": "code",
   "execution_count": null,
   "id": "2cb77849",
   "metadata": {},
   "outputs": [],
   "source": [
    "\n"
   ]
  },
  {
   "cell_type": "code",
   "execution_count": null,
   "id": "affbee74",
   "metadata": {},
   "outputs": [],
   "source": []
  }
 ],
 "metadata": {
  "kernelspec": {
   "display_name": "Python 3 (ipykernel)",
   "language": "python",
   "name": "python3"
  },
  "language_info": {
   "codemirror_mode": {
    "name": "ipython",
    "version": 3
   },
   "file_extension": ".py",
   "mimetype": "text/x-python",
   "name": "python",
   "nbconvert_exporter": "python",
   "pygments_lexer": "ipython3",
   "version": "3.9.13"
  }
 },
 "nbformat": 4,
 "nbformat_minor": 5
}
